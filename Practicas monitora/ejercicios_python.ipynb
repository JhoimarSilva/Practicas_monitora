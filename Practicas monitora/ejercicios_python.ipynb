{
  "nbformat": 4,
  "nbformat_minor": 0,
  "metadata": {
    "colab": {
      "name": "ejercicios python.ipynb",
      "provenance": []
    },
    "kernelspec": {
      "name": "python3",
      "display_name": "Python 3"
    },
    "language_info": {
      "name": "python"
    }
  },
  "cells": [
    {
      "cell_type": "code",
      "execution_count": 7,
      "metadata": {
        "colab": {
          "base_uri": "https://localhost:8080/"
        },
        "id": "1ujHM4eMXCGZ",
        "outputId": "8470f0d0-6a43-4855-df2e-581919ae8163"
      },
      "outputs": [
        {
          "output_type": "stream",
          "name": "stdout",
          "text": [
            "Ingresa una palabra: Cantala\n",
            "la\n"
          ]
        }
      ],
      "source": [
        "palabra = input(\"Ingresa una palabra: \")\n",
        "\n",
        "print(palabra[5:3:-1])"
      ]
    },
    {
      "cell_type": "code",
      "source": [
        "numero = int(input(\"Ingrese un numero por favor: \"))\n",
        "\n",
        "n2 = numero**2\n",
        "n2str = str(n2)\n",
        "\n",
        "print(\"-\".join(n2str[::-1]))"
      ],
      "metadata": {
        "colab": {
          "base_uri": "https://localhost:8080/"
        },
        "id": "EI5UCKsLZz16",
        "outputId": "b6802b32-9e82-4cb3-a502-510bef76900b"
      },
      "execution_count": 10,
      "outputs": [
        {
          "output_type": "stream",
          "name": "stdout",
          "text": [
            "Ingrese un numero por favor: 15\n",
            "5-2-2\n"
          ]
        }
      ]
    },
    {
      "cell_type": "code",
      "source": [
        "import math\n",
        "n1 = float(input(\"Ingrese un numero; \"))\n",
        "n2 = float(input(\"Ingrese un numero; \"))\n",
        "n3 = float(input(\"Ingrese un numero; \"))\n",
        "\n",
        "perimetor = 2*n1 + 2*n2\n",
        "arear = n1*n2\n",
        "\n",
        "perimetroc = 2*math.pi*n3\n",
        "areac = math.pi*(n3**2)\n",
        "\n",
        "print(\"El perimetro del rectangulo es: \", perimetor)\n",
        "print(\"El area del rectangulo es: \", arear)\n",
        "\n",
        "print(\"El perimetro del circulo es: \", perimetroc)\n",
        "print(\"El area del circulo es: \", areac)"
      ],
      "metadata": {
        "colab": {
          "base_uri": "https://localhost:8080/"
        },
        "id": "4CewxaMTbubg",
        "outputId": "0abae7c8-ae42-4993-94e8-bd3c73bfd0c8"
      },
      "execution_count": 12,
      "outputs": [
        {
          "output_type": "stream",
          "name": "stdout",
          "text": [
            "Ingrese un numero; 8\n",
            "Ingrese un numero; 15\n",
            "Ingrese un numero; 9\n",
            "El perimetro del rectangulo es:  46.0\n",
            "El area del rectangulo es:  120.0\n",
            "El perimetro del circulo es:  56.548667764616276\n",
            "El area del circulo es:  254.46900494077323\n"
          ]
        }
      ]
    }
  ]
}